{
 "cells": [
  {
   "cell_type": "markdown",
   "metadata": {},
   "source": [
    "# API Exercises"
   ]
  },
  {
   "cell_type": "markdown",
   "metadata": {},
   "source": [
    "Here are two exercises that involve working with APIs and dictionaries.\n",
    "\n",
    "One is using the Open Brewery API found at https://www.openbrewerydb.org/, and the other is using the API for UK Police Data, found at https://data.police.uk/docs/.\n",
    "\n",
    "You can complete them in either order!\n",
    "\n",
    "Remember that you can create new cells with esc + a or b"
   ]
  },
  {
   "cell_type": "markdown",
   "metadata": {},
   "source": [
    "## Breweries"
   ]
  },
  {
   "cell_type": "markdown",
   "metadata": {},
   "source": [
    "### Q1: Load the first page of results with 50 results per page"
   ]
  },
  {
   "cell_type": "code",
   "execution_count": 1,
   "metadata": {},
   "outputs": [],
   "source": [
    "import requests\n",
    "import json"
   ]
  },
  {
   "cell_type": "code",
   "execution_count": 4,
   "metadata": {},
   "outputs": [],
   "source": [
    "url = 'https://api.openbrewerydb.org/breweries?page=1&per_page=50'\n",
    "request = requests.get(url)"
   ]
  },
  {
   "cell_type": "markdown",
   "metadata": {},
   "source": [
    "### Q2: This is only the first 50 results.  Get the next 50 and put them together."
   ]
  },
  {
   "cell_type": "code",
   "execution_count": 5,
   "metadata": {},
   "outputs": [],
   "source": [
    "url = 'https://api.openbrewerydb.org/breweries?page=2&per_page=50'\n",
    "request2 = requests.get(url)"
   ]
  },
  {
   "cell_type": "code",
   "execution_count": 6,
   "metadata": {},
   "outputs": [],
   "source": [
    "total_requests=request.json()\n",
    "total_requests.extend(request2.json())"
   ]
  },
  {
   "cell_type": "code",
   "execution_count": 7,
   "metadata": {},
   "outputs": [
    {
     "name": "stdout",
     "output_type": "stream",
     "text": [
      "100\n"
     ]
    }
   ],
   "source": [
    "print(len(total_requests))"
   ]
  },
  {
   "cell_type": "markdown",
   "metadata": {},
   "source": [
    "### Q3: How many of these 100 breweries in are in Alaska?"
   ]
  },
  {
   "cell_type": "code",
   "execution_count": 6,
   "metadata": {},
   "outputs": [],
   "source": [
    "import json"
   ]
  },
  {
   "cell_type": "code",
   "execution_count": 7,
   "metadata": {},
   "outputs": [
    {
     "name": "stdout",
     "output_type": "stream",
     "text": [
      "3\n"
     ]
    }
   ],
   "source": [
    "count=0\n",
    "for brewery in total_requests:\n",
    "    if brewery['state']=='Alaska':\n",
    "        count+=1\n",
    "print(count)"
   ]
  },
  {
   "cell_type": "markdown",
   "metadata": {},
   "source": [
    "### Q4: Of these 100 breweries, what are the different unique brewery types?"
   ]
  },
  {
   "cell_type": "code",
   "execution_count": 8,
   "metadata": {},
   "outputs": [
    {
     "name": "stdout",
     "output_type": "stream",
     "text": [
      "6\n"
     ]
    }
   ],
   "source": [
    "brewery_types=[]\n",
    "for brewery in total_requests:\n",
    "    brewery_types.append(brewery['brewery_type'])\n",
    "unique_types=len(set(brewery_types))\n",
    "print(unique_types)"
   ]
  },
  {
   "cell_type": "markdown",
   "metadata": {},
   "source": [
    "### Q5: What is the cloest brewery to \"Devil's Potion Brewing Company LLC\" ?\n",
    "* Hint 1: Use Euclidian distance w/ longitude and latitude (assume longitude and latitude are a Carteisan coordinate system)\n",
    "* Hint 2: You'll have to ignore the entries with \"none\" for latitude or longitude"
   ]
  },
  {
   "cell_type": "code",
   "execution_count": 9,
   "metadata": {},
   "outputs": [
    {
     "name": "stdout",
     "output_type": "stream",
     "text": [
      "dict_keys(['id', 'name', 'brewery_type', 'street', 'city', 'state', 'postal_code', 'country', 'longitude', 'latitude', 'phone', 'website_url', 'updated_at', 'tag_list'])\n"
     ]
    }
   ],
   "source": [
    "print(total_requests[0].keys())"
   ]
  },
  {
   "cell_type": "code",
   "execution_count": 10,
   "metadata": {},
   "outputs": [
    {
     "name": "stdout",
     "output_type": "stream",
     "text": [
      "['33.1216751', '-117.0814849']\n"
     ]
    }
   ],
   "source": [
    "for brewery in total_requests:\n",
    "    if brewery['name']==\"Devil's Potion Brewing Company LLC\":\n",
    "        location=[brewery['latitude'],brewery['longitude']]\n",
    "print(location)"
   ]
  },
  {
   "cell_type": "code",
   "execution_count": 25,
   "metadata": {},
   "outputs": [
    {
     "name": "stdout",
     "output_type": "stream",
     "text": [
      "Dodgeton Creek Brewing Co.\n"
     ]
    }
   ],
   "source": [
    "import math\n",
    "minimum=10000\n",
    "closest=''\n",
    "for brewery in total_requests:\n",
    "    if brewery['latitude'] != None and brewery['longitude'] !=None and brewery['name'] != \"Devil's Potion Brewing Company LLC\":\n",
    "        distance = math.sqrt((float(brewery['latitude'])-float(location[0]))**2+(float((brewery['longitude']))-float(location[1]))**2)\n",
    "        if distance<minimum:\n",
    "            closest=brewery['name']\n",
    "print(closest)"
   ]
  },
  {
   "cell_type": "markdown",
   "metadata": {},
   "source": [
    "### Q6: Write a function to find the closest brewery to any other given brewery"
   ]
  },
  {
   "cell_type": "code",
   "execution_count": 27,
   "metadata": {},
   "outputs": [],
   "source": [
    "def find_nearest_brewery(brewery_list,brewery_name):\n",
    "    for brewery in total_requests:\n",
    "        if brewery['name']==brewer_name:\n",
    "            location=[brewery['latitude'],brewery['longitude']]\n",
    "    minimum=10000\n",
    "    closest=''\n",
    "    for brewery in brewery_list:\n",
    "        if brewery['latitude'] != None and brewery['longitude'] !=None and brewery['name'] != brewery_name:\n",
    "            distance = math.sqrt((float(brewery['latitude'])-float(location[0]))**2+(float((brewery['longitude']))-float(location[1]))**2)\n",
    "            if distance<minimum:\n",
    "                closest=brewery['name']\n",
    "    return(closest)"
   ]
  },
  {
   "cell_type": "markdown",
   "metadata": {},
   "source": [
    "### Q7: How would you get the first 10 pages from this API and put them all together using a for loop?"
   ]
  },
  {
   "cell_type": "code",
   "execution_count": 30,
   "metadata": {},
   "outputs": [
    {
     "name": "stdout",
     "output_type": "stream",
     "text": [
      "500\n"
     ]
    }
   ],
   "source": [
    "import requests\n",
    "number_of_pages=10\n",
    "all_requests=[]\n",
    "for i in range(number_of_pages):\n",
    "    url = f'https://api.openbrewerydb.org/breweries?page={i+1}&per_page=50'\n",
    "    request = requests.get(url)\n",
    "    all_requests.extend(request.json())\n",
    "print(len(all_requests))\n"
   ]
  },
  {
   "cell_type": "markdown",
   "metadata": {},
   "source": [
    "# Crime in the UK"
   ]
  },
  {
   "cell_type": "markdown",
   "metadata": {},
   "source": [
    "### We will be analyzing different crimes reported in the UK as provided by https://data.police.uk/docs/"
   ]
  },
  {
   "cell_type": "markdown",
   "metadata": {},
   "source": [
    "# Exploratory analysis\n",
    "##### 1. How many total crimes were there at latitude : 52.63902 and -1.131321 on November of 2017.\n",
    "Use the street level crimes data, the documentation for the API can be found at https://data.police.uk/docs/method/crime-street/"
   ]
  },
  {
   "cell_type": "code",
   "execution_count": 1,
   "metadata": {},
   "outputs": [],
   "source": [
    "import requests\n",
    "import json"
   ]
  },
  {
   "cell_type": "code",
   "execution_count": 11,
   "metadata": {},
   "outputs": [],
   "source": [
    "request = requests.get('https://data.police.uk/api/crimes-street/all-crime?lat=52.63902&lng=-1.1313212&date=2017-11')"
   ]
  },
  {
   "cell_type": "code",
   "execution_count": 12,
   "metadata": {},
   "outputs": [],
   "source": [
    "data=request.json()"
   ]
  },
  {
   "cell_type": "code",
   "execution_count": 20,
   "metadata": {},
   "outputs": [
    {
     "data": {
      "text/plain": [
       "dict_keys(['category', 'location_type', 'location', 'context', 'outcome_status', 'persistent_id', 'id', 'location_subtype', 'month'])"
      ]
     },
     "execution_count": 20,
     "metadata": {},
     "output_type": "execute_result"
    }
   ],
   "source": [
    "data[0].keys()"
   ]
  },
  {
   "cell_type": "markdown",
   "metadata": {},
   "source": [
    "##### 2. We've queried the API once, but it could get annoying to retype the url over and over again, create a function `make_api_request` that enables you to query the API.\n",
    "\n",
    "\n",
    " The parameters for the function should be:\n",
    "* lat (float) : latitude\n",
    "* lng (float) : longitude\n",
    "* date (string): Date in the format YYYY-MM\n",
    "    * default value = `None`\n",
    "    \n",
    "And it should return a json object of \n",
    "\n",
    "for more information on default values check out http://blog.thedigitalcatonline.com/blog/2015/02/11/default-arguments-in-python/"
   ]
  },
  {
   "cell_type": "code",
   "execution_count": 2,
   "metadata": {},
   "outputs": [],
   "source": [
    "def make_api_request(lat,lng,date):\n",
    "    return requests.get(f'https://data.police.uk/api/crimes-street/all-crime?lat={lat}&lng={lng}&date={date}').json()\n"
   ]
  },
  {
   "cell_type": "markdown",
   "metadata": {},
   "source": [
    "##### 3. Write a function `categories_of_crime` that will determine the count of each type of crime for a given latitude and longitude. This is labelled as 'category' in the records. Your function should call the `make_api_request` function you created.\n",
    "\n",
    "The parameters for the function should be:\n",
    "\n",
    "* lat (float) : latitude\n",
    "* lng (float) : longitude\n",
    "* date (str) default = None\n",
    "\n",
    "The function should return:\n",
    "* a dictionary with the count of each type of crime\n",
    "\n",
    "\n",
    "\n",
    "Once you've created the function, try it with these locations\n",
    "* lat, lng of 51.5017861,-0.1432319   (Buckingham Palace)\n",
    "* lat, lng of 53.480161, -2.245163     (Manchester)"
   ]
  },
  {
   "cell_type": "code",
   "execution_count": 3,
   "metadata": {},
   "outputs": [],
   "source": [
    "def categories_of_crime(lat,lng,date):\n",
    "    data=make_api_request(lat,lng,date)\n",
    "    category_count={}\n",
    "    for crime in data:\n",
    "        if crime['category'] not in category_count.keys():\n",
    "            category_count[crime['category']]=1\n",
    "        else:\n",
    "            category_count[crime['category']]+=1\n",
    "    return category_count\n"
   ]
  },
  {
   "cell_type": "code",
   "execution_count": 30,
   "metadata": {},
   "outputs": [],
   "source": [
    "buckingham_data=categories_of_crime(51.5017861,-.1432319,'2017-11')"
   ]
  },
  {
   "cell_type": "code",
   "execution_count": 31,
   "metadata": {},
   "outputs": [],
   "source": [
    "manchester_data=categories_of_crime(53.480161, -2.24516,'2018-01')"
   ]
  },
  {
   "cell_type": "markdown",
   "metadata": {},
   "source": [
    "**Bonus**: \n",
    "* Write a function that determines the difference between Buckingham Palace and Manchester in terms of the number of crimes in each category.\n",
    "    * In which category is there the largest absolute difference between the category of crime?\n",
    "* Create a histogram depiction of the categories of crime"
   ]
  },
  {
   "cell_type": "code",
   "execution_count": 4,
   "metadata": {},
   "outputs": [],
   "source": [
    "def difference_in_crime(lat1,lng1,lat2,lng2,date):\n",
    "    first=categories_of_crime(lat1,lng1,date)\n",
    "    second=categories_of_crime(lat2,lng2,date)\n",
    "    \n",
    "    diff={}\n",
    "    for category in second:\n",
    "        diff[category]=second[category]-first[category]\n",
    "    return diff"
   ]
  },
  {
   "cell_type": "code",
   "execution_count": 5,
   "metadata": {},
   "outputs": [],
   "source": [
    "hist_data=difference_in_crime(51.5017861,-0.1432319,53.480161, -2.245163,'2018-01')"
   ]
  },
  {
   "cell_type": "code",
   "execution_count": 16,
   "metadata": {},
   "outputs": [
    {
     "data": {
      "text/plain": [
       "{'anti-social-behaviour': -147,\n",
       " 'bicycle-theft': 30,\n",
       " 'burglary': -37,\n",
       " 'criminal-damage-arson': 55,\n",
       " 'drugs': -59,\n",
       " 'other-theft': -335,\n",
       " 'possession-of-weapons': -11,\n",
       " 'public-order': 159,\n",
       " 'robbery': 10,\n",
       " 'shoplifting': -190,\n",
       " 'theft-from-the-person': -251,\n",
       " 'vehicle-crime': 41,\n",
       " 'violent-crime': 153,\n",
       " 'other-crime': 14}"
      ]
     },
     "execution_count": 16,
     "metadata": {},
     "output_type": "execute_result"
    }
   ],
   "source": [
    "hist_data"
   ]
  },
  {
   "cell_type": "code",
   "execution_count": 7,
   "metadata": {},
   "outputs": [],
   "source": [
    "import matplotlib.pyplot as plt"
   ]
  },
  {
   "cell_type": "code",
   "execution_count": 11,
   "metadata": {},
   "outputs": [
    {
     "data": {
      "text/plain": [
       "14"
      ]
     },
     "execution_count": 11,
     "metadata": {},
     "output_type": "execute_result"
    }
   ],
   "source": [
    "len(categories)"
   ]
  },
  {
   "cell_type": "code",
   "execution_count": 29,
   "metadata": {},
   "outputs": [
    {
     "data": {
      "image/png": "[encoded data removed]",
      "text/plain": [
       "<Figure size 432x288 with 1 Axes>"
      ]
     },
     "metadata": {
      "needs_background": "light"
     },
     "output_type": "display_data"
    }
   ],
   "source": [
    "fig,ax=plt.subplots()\n",
    "categories=[]\n",
    "crime_diff=[]\n",
    "for key,val in hist_data.items():\n",
    "    categories.append(key)\n",
    "    crime_diff.append(val)\n",
    "plt.scatter((categories),crime_diff,facecolor='blue',alpha=.5)\n",
    "plt.xlabel('Categories')\n",
    "plt.xticks(range(len(categories)),categories,rotation='vertical')\n",
    "plt.ylabel('Difference - + means more in Manchester, - less')\n",
    "plt.show()"
   ]
  },
  {
   "cell_type": "code",
   "execution_count": 38,
   "metadata": {},
   "outputs": [
    {
     "data": {
      "image/png": "[encoded data removed]",
      "text/plain": [
       "<Figure size 432x288 with 1 Axes>"
      ]
     },
     "metadata": {
      "needs_background": "light"
     },
     "output_type": "display_data"
    }
   ],
   "source": [
    "fig,ax=plt.subplots()\n",
    "buckingham_crime=[]\n",
    "for key,val in buckingham_data.items():\n",
    "    buckingham_crime.append(val)\n",
    "plt.bar(range(len(categories)),buckingham_crime,facecolor='blue',alpha=.5)\n",
    "plt.xlabel('Categories')\n",
    "plt.xticks(range(len(categories)),categories,rotation='vertical')\n",
    "plt.ylabel('Difference - + means more in Manchester, - less')\n",
    "plt.show()"
   ]
  },
  {
   "cell_type": "code",
   "execution_count": null,
   "metadata": {},
   "outputs": [],
   "source": [
    "fig,ax=plt.subplots()\n",
    "manchester_crime=[]\n",
    "for key,val in manchester_data.items():\n",
    "    manchester_crime.append(val)\n",
    "plt.bar(range(len(categories)),manche_crime,facecolor='blue',alpha=.5)\n",
    "plt.xlabel('Categories')\n",
    "plt.xticks(range(len(categories)),categories,rotation='vertical')\n",
    "plt.ylabel('Difference - + means more in Manchester, - less')\n",
    "plt.show()"
   ]
  },
  {
   "cell_type": "markdown",
   "metadata": {},
   "source": [
    "##### 4. Create a function `find_outcome_statuses` that will determine outcome statuses for a given latitude and longitude and date (optional)?\n",
    "Investigate the data to determine where the outcome statuses are located.\n",
    "\n",
    "**NOTE**: You'll notice that some of these crimes do not have crime outcomes. Make these into the category of \"Not Resolved.\"\n",
    "\n",
    "**NOTE 2**: These might take a long time to execute if you do not specify a month\n",
    "\n",
    "**Bonus**: What is the ratio of crimes investigated to those not investigated? Is it higher near London or Manchester?"
   ]
  },
  {
   "cell_type": "code",
   "execution_count": null,
   "metadata": {},
   "outputs": [],
   "source": [
    "\n"
   ]
  },
  {
   "cell_type": "markdown",
   "metadata": {},
   "source": [
    "##### 5. Write a function `month_highest_crimes` that will return the month that had the highest number of crimes for a latitude, longitude and a year.\n",
    "\n",
    "Inputs\n",
    "* lat (float) : latitude\n",
    "* lng (float) : longitude\n",
    "* year (str) : in the format YYYY\n",
    "\n",
    "Output\n",
    "* month with highest crime (int)\n",
    "\n",
    "**Bonus** Make a graph of how the number of crimes changed over time for a year. This will likely require a new function. Is seasonality a factor? Do the type of crimes change over time?"
   ]
  },
  {
   "cell_type": "code",
   "execution_count": null,
   "metadata": {},
   "outputs": [],
   "source": [
    "\n"
   ]
  },
  {
   "cell_type": "markdown",
   "metadata": {},
   "source": [
    "### Bonus Open Ended Questions\n",
    "\n",
    "1. Take a look at the https://data.police.uk/docs/method/stops-street/ API. Is there a correlation between gender and being stopped and searched? How about race and being stopped and searched?"
   ]
  },
  {
   "cell_type": "code",
   "execution_count": null,
   "metadata": {},
   "outputs": [],
   "source": [
    "\n"
   ]
  }
 ],
 "metadata": {
  "kernelspec": {
   "display_name": "Python 3",
   "language": "python",
   "name": "python3"
  },
  "language_info": {
   "codemirror_mode": {
    "name": "ipython",
    "version": 3
   },
   "file_extension": ".py",
   "mimetype": "text/x-python",
   "name": "python",
   "nbconvert_exporter": "python",
   "pygments_lexer": "ipython3",
   "version": "3.6.6"
  }
 },
 "nbformat": 4,
 "nbformat_minor": 2
}
